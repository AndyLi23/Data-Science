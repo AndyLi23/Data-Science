{
  "nbformat": 4,
  "nbformat_minor": 0,
  "metadata": {
    "colab": {
      "name": "Business Example.ipynb",
      "provenance": []
    },
    "kernelspec": {
      "name": "python3",
      "display_name": "Python 3"
    }
  },
  "cells": [
    {
      "cell_type": "code",
      "metadata": {
        "id": "8L1JCZxWlYFa"
      },
      "source": [
        "import numpy as np\n",
        "import tensorflow as tf"
      ],
      "execution_count": 118,
      "outputs": []
    },
    {
      "cell_type": "code",
      "metadata": {
        "id": "s9TNZ3eEmpbs"
      },
      "source": [
        "npz = np.load('Audiobooks_data_train.npz')\n",
        "\n",
        "train_inputs = npz['inputs'].astype(np.float)\n",
        "train_targets = npz['targets'].astype(np.int)\n",
        "\n",
        "npz = np.load('Audiobooks_data_validation.npz')\n",
        "\n",
        "validation_inputs = npz['inputs'].astype(np.float)\n",
        "validation_targets = npz['targets'].astype(np.int)\n",
        "\n",
        "npz = np.load('Audiobooks_data_test.npz')\n",
        "\n",
        "test_inputs = npz['inputs'].astype(np.float)\n",
        "test_targets = npz['targets'].astype(np.int)\n"
      ],
      "execution_count": 119,
      "outputs": []
    },
    {
      "cell_type": "code",
      "metadata": {
        "colab": {
          "base_uri": "https://localhost:8080/"
        },
        "id": "w0Mg6kEqm-6A",
        "outputId": "f8516a43-cb70-4dd4-82fe-37fe64e06154"
      },
      "source": [
        "input_size = 10\n",
        "output_size = 2\n",
        "hidden_layer_size = 100\n",
        "\n",
        "\n",
        "model = tf.keras.Sequential([\n",
        "       tf.keras.layers.Dense(hidden_layer_size, activation='relu'),\n",
        "       tf.keras.layers.Dense(hidden_layer_size, activation='relu'),\n",
        "       tf.keras.layers.Dense(hidden_layer_size, activation='relu'),\n",
        "       tf.keras.layers.Dense(output_size, activation='softmax'),\n",
        "])\n",
        "\n",
        "model.compile(optimizer='adam', loss='sparse_categorical_crossentropy', metrics=['accuracy'])\n",
        "\n",
        "batch_size = 1000\n",
        "max_epochs = 100\n",
        "\n",
        "# stop training when overfitting starts\n",
        "early_stopping = tf.keras.callbacks.EarlyStopping(patience=1)\n",
        "\n",
        "model.fit(train_inputs, train_targets, \n",
        "          batch_size=batch_size, epochs=max_epochs,\n",
        "          callbacks=[early_stopping],\n",
        "          validation_data = (validation_inputs, validation_targets),\n",
        "          verbose=2)"
      ],
      "execution_count": 133,
      "outputs": [
        {
          "output_type": "stream",
          "text": [
            "Epoch 1/100\n",
            "4/4 - 1s - loss: 0.6701 - accuracy: 0.6197 - val_loss: 0.6175 - val_accuracy: 0.7159\n",
            "Epoch 2/100\n",
            "4/4 - 0s - loss: 0.5924 - accuracy: 0.7346 - val_loss: 0.5598 - val_accuracy: 0.7271\n",
            "Epoch 3/100\n",
            "4/4 - 0s - loss: 0.5352 - accuracy: 0.7435 - val_loss: 0.5149 - val_accuracy: 0.7472\n",
            "Epoch 4/100\n",
            "4/4 - 0s - loss: 0.4897 - accuracy: 0.7625 - val_loss: 0.4811 - val_accuracy: 0.7629\n",
            "Epoch 5/100\n",
            "4/4 - 0s - loss: 0.4538 - accuracy: 0.7740 - val_loss: 0.4544 - val_accuracy: 0.7673\n",
            "Epoch 6/100\n",
            "4/4 - 0s - loss: 0.4253 - accuracy: 0.7899 - val_loss: 0.4334 - val_accuracy: 0.7696\n",
            "Epoch 7/100\n",
            "4/4 - 0s - loss: 0.4046 - accuracy: 0.7969 - val_loss: 0.4142 - val_accuracy: 0.7718\n",
            "Epoch 8/100\n",
            "4/4 - 0s - loss: 0.3877 - accuracy: 0.8033 - val_loss: 0.4025 - val_accuracy: 0.7808\n",
            "Epoch 9/100\n",
            "4/4 - 0s - loss: 0.3749 - accuracy: 0.8047 - val_loss: 0.3947 - val_accuracy: 0.7897\n",
            "Epoch 10/100\n",
            "4/4 - 0s - loss: 0.3668 - accuracy: 0.8050 - val_loss: 0.3838 - val_accuracy: 0.7919\n",
            "Epoch 11/100\n",
            "4/4 - 0s - loss: 0.3587 - accuracy: 0.8114 - val_loss: 0.3783 - val_accuracy: 0.7987\n",
            "Epoch 12/100\n",
            "4/4 - 0s - loss: 0.3519 - accuracy: 0.8145 - val_loss: 0.3749 - val_accuracy: 0.7942\n",
            "Epoch 13/100\n",
            "4/4 - 0s - loss: 0.3463 - accuracy: 0.8142 - val_loss: 0.3722 - val_accuracy: 0.8009\n",
            "Epoch 14/100\n",
            "4/4 - 0s - loss: 0.3434 - accuracy: 0.8173 - val_loss: 0.3706 - val_accuracy: 0.8143\n",
            "Epoch 15/100\n",
            "4/4 - 0s - loss: 0.3387 - accuracy: 0.8203 - val_loss: 0.3688 - val_accuracy: 0.8009\n",
            "Epoch 16/100\n",
            "4/4 - 0s - loss: 0.3348 - accuracy: 0.8220 - val_loss: 0.3664 - val_accuracy: 0.8098\n",
            "Epoch 17/100\n",
            "4/4 - 0s - loss: 0.3328 - accuracy: 0.8187 - val_loss: 0.3641 - val_accuracy: 0.8076\n",
            "Epoch 18/100\n",
            "4/4 - 0s - loss: 0.3296 - accuracy: 0.8226 - val_loss: 0.3583 - val_accuracy: 0.8098\n",
            "Epoch 19/100\n",
            "4/4 - 0s - loss: 0.3284 - accuracy: 0.8231 - val_loss: 0.3611 - val_accuracy: 0.8031\n"
          ],
          "name": "stdout"
        },
        {
          "output_type": "execute_result",
          "data": {
            "text/plain": [
              "<tensorflow.python.keras.callbacks.History at 0x7f599a923780>"
            ]
          },
          "metadata": {
            "tags": []
          },
          "execution_count": 133
        }
      ]
    },
    {
      "cell_type": "code",
      "metadata": {
        "colab": {
          "base_uri": "https://localhost:8080/"
        },
        "id": "W8DGI2KpnztO",
        "outputId": "e0541226-a432-42aa-b669-7236b3c73743"
      },
      "source": [
        "model.evaluate(test_inputs, test_targets)"
      ],
      "execution_count": 134,
      "outputs": [
        {
          "output_type": "stream",
          "text": [
            "14/14 [==============================] - 0s 2ms/step - loss: 0.3485 - accuracy: 0.8058\n"
          ],
          "name": "stdout"
        },
        {
          "output_type": "execute_result",
          "data": {
            "text/plain": [
              "[0.3485102653503418, 0.8058035969734192]"
            ]
          },
          "metadata": {
            "tags": []
          },
          "execution_count": 134
        }
      ]
    },
    {
      "cell_type": "code",
      "metadata": {
        "id": "Rg8Wozyr2IeR"
      },
      "source": [
        ""
      ],
      "execution_count": 132,
      "outputs": []
    }
  ]
}