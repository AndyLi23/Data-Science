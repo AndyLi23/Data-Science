{
 "cells": [
  {
   "cell_type": "code",
   "execution_count": 110,
   "metadata": {
    "id": "jlj3_e1QLgaQ"
   },
   "outputs": [],
   "source": [
    "import numpy as np\n",
    "from sklearn import preprocessing\n",
    "\n",
    "\n",
    "raw_csv_data = np.loadtxt('Audiobooks_data.csv', delimiter=',')\n",
    "\n",
    "# every column except the first (id) and last (target)\n",
    "unscaled_inputs_all = raw_csv_data[:,1:-1]\n",
    "targets_all = raw_csv_data[:,-1]"
   ]
  },
  {
   "cell_type": "code",
   "execution_count": 111,
   "metadata": {
    "id": "roPrT8sERcYq"
   },
   "outputs": [],
   "source": [
    "# shuffle the data\n",
    "\n",
    "shuffled_indices = np.arange(unscaled_inputs_all.shape[0])\n",
    "np.random.shuffle(shuffled_indices)\n",
    "\n",
    "unscaled_inputs_all = unscaled_inputs_all[shuffled_indices]\n",
    "targets_all = targets_all[shuffled_indices]\n"
   ]
  },
  {
   "cell_type": "code",
   "execution_count": 112,
   "metadata": {
    "colab": {
     "base_uri": "https://localhost:8080/"
    },
    "id": "5SifACvcPppA",
    "outputId": "8de4572b-63b1-4711-dbd0-b4fc16fb2d00"
   },
   "outputs": [
    {
     "name": "stdout",
     "output_type": "stream",
     "text": [
      "(4474, 10) (4474,)\n"
     ]
    }
   ],
   "source": [
    "# Balance the dataset\n",
    "num_one_targets = int(np.sum(targets_all))\n",
    "zero_targets_counter = 0\n",
    "indices_to_remove = []\n",
    "\n",
    "for i in range(targets_all.shape[0]):\n",
    "  if targets_all[i] == 0:\n",
    "    zero_targets_counter += 1\n",
    "    if zero_targets_counter > num_one_targets:\n",
    "      indices_to_remove.append(i)\n",
    "\n",
    "\n",
    "unscaled_inputs_equal = np.delete(unscaled_inputs_all, indices_to_remove, axis=0)\n",
    "targets_equal = np.delete(targets_all, indices_to_remove, axis=0)\n",
    "\n",
    "print(unscaled_inputs_equal.shape,targets_equal.shape)"
   ]
  },
  {
   "cell_type": "code",
   "execution_count": 113,
   "metadata": {
    "id": "olYSSyHNQi3L"
   },
   "outputs": [],
   "source": [
    "# standardize the inputs\n",
    "\n",
    "scaled_inputs = preprocessing.scale(unscaled_inputs_equal)"
   ]
  },
  {
   "cell_type": "code",
   "execution_count": 114,
   "metadata": {
    "id": "N0eTeoC8kMe8"
   },
   "outputs": [],
   "source": [
    "# shuffle again\n",
    "\n",
    "shuffled_indices = np.arange(scaled_inputs.shape[0])\n",
    "np.random.shuffle(shuffled_indices)\n",
    "\n",
    "shuffled_inputs = scaled_inputs[shuffled_indices]\n",
    "shuffled_targets = targets_equal[shuffled_indices]"
   ]
  },
  {
   "cell_type": "code",
   "execution_count": 115,
   "metadata": {
    "colab": {
     "base_uri": "https://localhost:8080/"
    },
    "id": "7pYSOw2BR9_J",
    "outputId": "6226a380-4171-4e2f-a120-9728d882c78f"
   },
   "outputs": [
    {
     "name": "stdout",
     "output_type": "stream",
     "text": [
      "3579 3579 1791.0\n",
      "447 447 220.0\n",
      "448 448 226.0\n"
     ]
    }
   ],
   "source": [
    "# Split into train/validation/test\n",
    "\n",
    "samples_count = shuffled_inputs.shape[0]\n",
    "\n",
    "train_samples_count = int(0.8*samples_count)\n",
    "validation_samples_count = int(0.1*samples_count)\n",
    "test_samples_count = samples_count - train_samples_count - validation_samples_count\n",
    "\n",
    "train_inputs = shuffled_inputs[:train_samples_count]\n",
    "train_targets = shuffled_targets[:train_samples_count]\n",
    "\n",
    "validation_inputs = shuffled_inputs[train_samples_count:train_samples_count+validation_samples_count]\n",
    "validation_targets = shuffled_targets[train_samples_count:train_samples_count+validation_samples_count]\n",
    "\n",
    "test_inputs = shuffled_inputs[train_samples_count+validation_samples_count:]\n",
    "test_targets = shuffled_targets[train_samples_count+validation_samples_count:]\n",
    "\n",
    "print(train_inputs.shape[0], train_samples_count, np.sum(train_targets))\n",
    "print(validation_inputs.shape[0], validation_samples_count, np.sum(validation_targets))\n",
    "print(test_inputs.shape[0], test_samples_count, np.sum(test_targets))"
   ]
  },
  {
   "cell_type": "code",
   "execution_count": 116,
   "metadata": {
    "id": "0gD86CKhT8OW"
   },
   "outputs": [],
   "source": [
    "# save to .npz\n",
    "\n",
    "np.savez('Audiobooks_data_train', inputs=train_inputs, targets=train_targets)\n",
    "np.savez('Audiobooks_data_validation', inputs=validation_inputs, targets=validation_targets)\n",
    "np.savez('Audiobooks_data_test', input=test_inputs, targets=test_targets)"
   ]
  }
 ],
 "metadata": {
  "colab": {
   "name": "preprocessing.ipynb",
   "provenance": []
  },
  "kernelspec": {
   "display_name": "Python 3",
   "language": "python",
   "name": "python3"
  },
  "language_info": {
   "codemirror_mode": {
    "name": "ipython",
    "version": 3
   },
   "file_extension": ".py",
   "mimetype": "text/x-python",
   "name": "python",
   "nbconvert_exporter": "python",
   "pygments_lexer": "ipython3",
   "version": "3.8.5"
  }
 },
 "nbformat": 4,
 "nbformat_minor": 4
}
