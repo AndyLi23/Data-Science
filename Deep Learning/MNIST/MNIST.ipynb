{
 "cells": [
  {
   "cell_type": "code",
   "execution_count": 1,
   "metadata": {
    "id": "noPcyj8i5l2U"
   },
   "outputs": [],
   "source": [
    "import numpy as np\n",
    "import tensorflow as tf\n",
    "\n",
    "import tensorflow_datasets as tfds"
   ]
  },
  {
   "cell_type": "markdown",
   "metadata": {},
   "source": [
    "### Preprocessing"
   ]
  },
  {
   "cell_type": "code",
   "execution_count": 40,
   "metadata": {
    "id": "3i11TV-V6b8u"
   },
   "outputs": [],
   "source": [
    "# load data\n",
    "mnist_dataset, mnist_info = tfds.load(name='mnist', as_supervised=True, with_info = True)\n",
    "\n",
    "# train-test already split\n",
    "mnist_train, mnist_test = mnist_dataset['train'], mnist_dataset['test']\n",
    "\n",
    "# validation will be 10% of train\n",
    "num_validation_samples = 0.1 * mnist_info.splits['train'].num_examples\n",
    "num_validation_samples = tf.cast(num_validation_samples, tf.int64)\n",
    "\n",
    "# number of tests\n",
    "num_test_samples = mnist_info.splits['test'].num_examples\n",
    "num_test_samples = tf.cast(num_test_samples, tf.int64)\n",
    "\n",
    "# scale each image from 0-1\n",
    "def scale(image, label):\n",
    "  image = tf.cast(image, tf.float32)\n",
    "  image /= 255.0\n",
    "  return image, label\n",
    "\n",
    "# scale data\n",
    "scaled_train_and_validation_data = mnist_train.map(scale)\n",
    "scaled_test_and_validation_data = mnist_test.map(scale)\n",
    "\n",
    "# shuffle for batches\n",
    "BUFFER_SIZE = 10000\n",
    "shuffled_train_and_validation_data = scaled_train_and_validation_data.shuffle(BUFFER_SIZE)\n",
    "\n",
    "validation_data = shuffled_train_and_validation_data.take(num_validation_samples)\n",
    "train_data = shuffled_train_and_validation_data.skip(num_validation_samples)\n",
    "\n",
    "\n",
    "# 100 batches\n",
    "BATCH_SIZE = 100\n",
    "\n",
    "train_data = train_data.batch(BATCH_SIZE)\n",
    "\n",
    "# validation/test does not need batches, but tf expects batches, so create one batch\n",
    "validation_data = validation_data.batch(num_validation_samples)\n",
    "test_data = mnist_test.batch(num_test_samples)\n",
    "\n",
    "# split inputs and targets: there is one batch so next(iter()) returns the first batch\n",
    "validation_inputs, validation_targets = next(iter(validation_data))\n",
    "\n",
    "# test_inputs, test_targets = next(iter(test_data))"
   ]
  },
  {
   "cell_type": "markdown",
   "metadata": {},
   "source": [
    "### Creating the model"
   ]
  },
  {
   "cell_type": "code",
   "execution_count": 41,
   "metadata": {
    "id": "88SL2hI364sw"
   },
   "outputs": [],
   "source": [
    "input_size = 784\n",
    "output_size = 10\n",
    "hidden_layer_size = 200\n",
    "\n",
    "\n",
    "model = tf.keras.Sequential([\n",
    "       tf.keras.layers.Flatten(input_shape=(28,28,1)),\n",
    "       tf.keras.layers.Dense(hidden_layer_size, activation='relu'),\n",
    "       tf.keras.layers.Dense(hidden_layer_size, activation='relu'),\n",
    "       tf.keras.layers.Dense(hidden_layer_size, activation='tanh'),\n",
    "       tf.keras.layers.Dense(hidden_layer_size, activation='relu'),\n",
    "       tf.keras.layers.Dense(output_size, activation='softmax'),\n",
    "])"
   ]
  },
  {
   "cell_type": "code",
   "execution_count": 42,
   "metadata": {
    "id": "QoDLMOZfAWeB"
   },
   "outputs": [],
   "source": [
    "# sparse_categorical_crossentropy applies one-hot encoding \n",
    "model.compile(optimizer='adam', loss='sparse_categorical_crossentropy', metrics=['accuracy'])"
   ]
  },
  {
   "cell_type": "markdown",
   "metadata": {},
   "source": [
    "### Training"
   ]
  },
  {
   "cell_type": "code",
   "execution_count": 43,
   "metadata": {
    "colab": {
     "base_uri": "https://localhost:8080/"
    },
    "id": "CAe2KbYAA9iy",
    "outputId": "e5dcd10c-d6c9-4fdb-c5b0-dd604c95a392"
   },
   "outputs": [
    {
     "name": "stdout",
     "output_type": "stream",
     "text": [
      "Epoch 1/10\n",
      "540/540 - 9s - loss: 0.2550 - accuracy: 0.9218 - val_loss: 0.1277 - val_accuracy: 0.9605\n",
      "Epoch 2/10\n",
      "540/540 - 6s - loss: 0.1026 - accuracy: 0.9679 - val_loss: 0.0759 - val_accuracy: 0.9788\n",
      "Epoch 3/10\n",
      "540/540 - 6s - loss: 0.0685 - accuracy: 0.9790 - val_loss: 0.0618 - val_accuracy: 0.9820\n",
      "Epoch 4/10\n",
      "540/540 - 6s - loss: 0.0541 - accuracy: 0.9832 - val_loss: 0.0586 - val_accuracy: 0.9812\n",
      "Epoch 5/10\n",
      "540/540 - 6s - loss: 0.0450 - accuracy: 0.9855 - val_loss: 0.0629 - val_accuracy: 0.9825\n",
      "Epoch 6/10\n",
      "540/540 - 6s - loss: 0.0394 - accuracy: 0.9873 - val_loss: 0.0389 - val_accuracy: 0.9877\n",
      "Epoch 7/10\n",
      "540/540 - 6s - loss: 0.0310 - accuracy: 0.9898 - val_loss: 0.0306 - val_accuracy: 0.9913\n",
      "Epoch 8/10\n",
      "540/540 - 6s - loss: 0.0303 - accuracy: 0.9901 - val_loss: 0.0319 - val_accuracy: 0.9905\n",
      "Epoch 9/10\n",
      "540/540 - 6s - loss: 0.0245 - accuracy: 0.9919 - val_loss: 0.0371 - val_accuracy: 0.9887\n",
      "Epoch 10/10\n",
      "540/540 - 6s - loss: 0.0257 - accuracy: 0.9921 - val_loss: 0.0332 - val_accuracy: 0.9888\n"
     ]
    },
    {
     "data": {
      "text/plain": [
       "<tensorflow.python.keras.callbacks.History at 0x7f71ec717518>"
      ]
     },
     "execution_count": 43,
     "metadata": {
      "tags": []
     },
     "output_type": "execute_result"
    }
   ],
   "source": [
    "NUM_EPOCHS = 10\n",
    "\n",
    "model.fit(train_data, epochs=NUM_EPOCHS, validation_data=(validation_inputs, validation_targets), verbose=2)"
   ]
  },
  {
   "cell_type": "markdown",
   "metadata": {},
   "source": [
    "### Testing"
   ]
  },
  {
   "cell_type": "code",
   "execution_count": 44,
   "metadata": {
    "colab": {
     "base_uri": "https://localhost:8080/"
    },
    "id": "_v45SDylBJBh",
    "outputId": "e3c7df1f-7412-4414-83f5-deff357823a4"
   },
   "outputs": [
    {
     "name": "stdout",
     "output_type": "stream",
     "text": [
      "1/1 [==============================] - 1s 1s/step - loss: 0.1218 - accuracy: 0.9779\n"
     ]
    },
    {
     "data": {
      "text/plain": [
       "[0.1218169555068016, 0.9779000282287598]"
      ]
     },
     "execution_count": 44,
     "metadata": {
      "tags": []
     },
     "output_type": "execute_result"
    }
   ],
   "source": [
    "model.evaluate(test_data)"
   ]
  }
 ],
 "metadata": {
  "colab": {
   "name": "MNIST.ipynb",
   "provenance": []
  },
  "kernelspec": {
   "display_name": "Python 3",
   "language": "python",
   "name": "python3"
  },
  "language_info": {
   "codemirror_mode": {
    "name": "ipython",
    "version": 3
   },
   "file_extension": ".py",
   "mimetype": "text/x-python",
   "name": "python",
   "nbconvert_exporter": "python",
   "pygments_lexer": "ipython3",
   "version": "3.8.5"
  }
 },
 "nbformat": 4,
 "nbformat_minor": 4
}
