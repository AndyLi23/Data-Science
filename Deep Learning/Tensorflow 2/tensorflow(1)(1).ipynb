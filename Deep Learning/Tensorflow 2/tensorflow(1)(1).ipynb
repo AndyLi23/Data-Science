{
  "nbformat": 4,
  "nbformat_minor": 0,
  "metadata": {
    "colab": {
      "name": "tensorflow(1).ipynb",
      "provenance": [],
      "collapsed_sections": []
    },
    "kernelspec": {
      "name": "python3",
      "display_name": "Python 3"
    }
  },
  "cells": [
    {
      "cell_type": "code",
      "metadata": {
        "id": "09xP9PN76XIx"
      },
      "source": [
        "import tensorflow as tf\n",
        "import numpy as np\n",
        "import matplotlib.pyplot as plt\n",
        "import seaborn as sns\n",
        "\n",
        "sns.set()"
      ],
      "execution_count": 1,
      "outputs": []
    },
    {
      "cell_type": "code",
      "metadata": {
        "id": "TA72f9CM6ePx"
      },
      "source": [
        "observations = 10000\n",
        "\n",
        "xs = np.random.uniform(low=-10, high=10, size=(observations,1))\n",
        "zs = np.random.uniform(-10,10,(observations,1))\n",
        "\n",
        "generated_inputs = np.column_stack((xs,zs))\n",
        "noise = np.random.uniform(-1,1,(observations,1))\n",
        "generated_targets = 2 * xs - 3 * zs + 5 + noise\n",
        "\n",
        "np.savez('TF_intro', inputs=generated_inputs, targets = generated_targets)\n"
      ],
      "execution_count": 2,
      "outputs": []
    },
    {
      "cell_type": "code",
      "metadata": {
        "colab": {
          "base_uri": "https://localhost:8080/"
        },
        "id": "smPvlZvAZAwh",
        "outputId": "fb468b05-7cae-4fdc-82b8-7ec9f3a223c7"
      },
      "source": [
        "training_data = np.load('TF_intro.npz')\n",
        "training_data"
      ],
      "execution_count": 3,
      "outputs": [
        {
          "output_type": "execute_result",
          "data": {
            "text/plain": [
              "<numpy.lib.npyio.NpzFile at 0x7fb7b1135e10>"
            ]
          },
          "metadata": {
            "tags": []
          },
          "execution_count": 3
        }
      ]
    },
    {
      "cell_type": "code",
      "metadata": {
        "colab": {
          "base_uri": "https://localhost:8080/"
        },
        "id": "ZxoFJK3UZHnU",
        "outputId": "18b4ce7d-d742-47a7-f908-6c7b60f6cffe"
      },
      "source": [
        "input_size = 2\n",
        "output_size = 1\n",
        "\n",
        "model = tf.keras.Sequential([\n",
        "    # Dense implements output = dot(input, weights) + bias\n",
        "    tf.keras.layers.Dense(output_size,\n",
        "              kernel_initializer = tf.random_uniform_initializer(minval=-0.1, maxval=0.1),\n",
        "              bias_initializer = tf.random_uniform_initializer(minval=-0.1, maxval=0.1))\n",
        "])\n",
        "\n",
        "#sgd = stochastic gradient descent \n",
        "\n",
        "custom_optimizer = tf.keras.optimizers.SGD(learning_rate=0.005)\n",
        "\n",
        "#mean squared error = l2-norm divided by number of observations\n",
        "#alternative is Huber loss for outliers (not squared), syntax is \"huber_loss\"\n",
        "model.compile(optimizer=custom_optimizer, loss=\"mean_squared_error\")\n",
        "\n",
        "model.fit(training_data['inputs'], training_data['targets'], epochs=50, verbose=2)"
      ],
      "execution_count": 4,
      "outputs": [
        {
          "output_type": "stream",
          "text": [
            "Epoch 1/50\n",
            "313/313 - 1s - loss: 6.8174\n",
            "Epoch 2/50\n",
            "313/313 - 0s - loss: 0.3458\n",
            "Epoch 3/50\n",
            "313/313 - 0s - loss: 0.3380\n",
            "Epoch 4/50\n",
            "313/313 - 0s - loss: 0.3372\n",
            "Epoch 5/50\n",
            "313/313 - 0s - loss: 0.3363\n",
            "Epoch 6/50\n",
            "313/313 - 0s - loss: 0.3385\n",
            "Epoch 7/50\n",
            "313/313 - 0s - loss: 0.3380\n",
            "Epoch 8/50\n",
            "313/313 - 0s - loss: 0.3373\n",
            "Epoch 9/50\n",
            "313/313 - 0s - loss: 0.3366\n",
            "Epoch 10/50\n",
            "313/313 - 0s - loss: 0.3371\n",
            "Epoch 11/50\n",
            "313/313 - 0s - loss: 0.3369\n",
            "Epoch 12/50\n",
            "313/313 - 0s - loss: 0.3372\n",
            "Epoch 13/50\n",
            "313/313 - 0s - loss: 0.3379\n",
            "Epoch 14/50\n",
            "313/313 - 0s - loss: 0.3371\n",
            "Epoch 15/50\n",
            "313/313 - 0s - loss: 0.3371\n",
            "Epoch 16/50\n",
            "313/313 - 0s - loss: 0.3384\n",
            "Epoch 17/50\n",
            "313/313 - 0s - loss: 0.3369\n",
            "Epoch 18/50\n",
            "313/313 - 0s - loss: 0.3372\n",
            "Epoch 19/50\n",
            "313/313 - 0s - loss: 0.3374\n",
            "Epoch 20/50\n",
            "313/313 - 0s - loss: 0.3372\n",
            "Epoch 21/50\n",
            "313/313 - 0s - loss: 0.3376\n",
            "Epoch 22/50\n",
            "313/313 - 0s - loss: 0.3377\n",
            "Epoch 23/50\n",
            "313/313 - 0s - loss: 0.3372\n",
            "Epoch 24/50\n",
            "313/313 - 0s - loss: 0.3384\n",
            "Epoch 25/50\n",
            "313/313 - 0s - loss: 0.3380\n",
            "Epoch 26/50\n",
            "313/313 - 0s - loss: 0.3369\n",
            "Epoch 27/50\n",
            "313/313 - 0s - loss: 0.3378\n",
            "Epoch 28/50\n",
            "313/313 - 0s - loss: 0.3370\n",
            "Epoch 29/50\n",
            "313/313 - 0s - loss: 0.3368\n",
            "Epoch 30/50\n",
            "313/313 - 0s - loss: 0.3364\n",
            "Epoch 31/50\n",
            "313/313 - 0s - loss: 0.3375\n",
            "Epoch 32/50\n",
            "313/313 - 0s - loss: 0.3371\n",
            "Epoch 33/50\n",
            "313/313 - 0s - loss: 0.3373\n",
            "Epoch 34/50\n",
            "313/313 - 0s - loss: 0.3377\n",
            "Epoch 35/50\n",
            "313/313 - 0s - loss: 0.3383\n",
            "Epoch 36/50\n",
            "313/313 - 0s - loss: 0.3369\n",
            "Epoch 37/50\n",
            "313/313 - 0s - loss: 0.3378\n",
            "Epoch 38/50\n",
            "313/313 - 0s - loss: 0.3376\n",
            "Epoch 39/50\n",
            "313/313 - 0s - loss: 0.3383\n",
            "Epoch 40/50\n",
            "313/313 - 0s - loss: 0.3378\n",
            "Epoch 41/50\n",
            "313/313 - 0s - loss: 0.3372\n",
            "Epoch 42/50\n",
            "313/313 - 0s - loss: 0.3380\n",
            "Epoch 43/50\n",
            "313/313 - 0s - loss: 0.3372\n",
            "Epoch 44/50\n",
            "313/313 - 0s - loss: 0.3375\n",
            "Epoch 45/50\n",
            "313/313 - 0s - loss: 0.3378\n",
            "Epoch 46/50\n",
            "313/313 - 0s - loss: 0.3371\n",
            "Epoch 47/50\n",
            "313/313 - 0s - loss: 0.3362\n",
            "Epoch 48/50\n",
            "313/313 - 0s - loss: 0.3369\n",
            "Epoch 49/50\n",
            "313/313 - 0s - loss: 0.3373\n",
            "Epoch 50/50\n",
            "313/313 - 0s - loss: 0.3375\n"
          ],
          "name": "stdout"
        },
        {
          "output_type": "execute_result",
          "data": {
            "text/plain": [
              "<tensorflow.python.keras.callbacks.History at 0x7fb7acef6550>"
            ]
          },
          "metadata": {
            "tags": []
          },
          "execution_count": 4
        }
      ]
    },
    {
      "cell_type": "code",
      "metadata": {
        "colab": {
          "base_uri": "https://localhost:8080/"
        },
        "id": "b35nkt4Ra9Pi",
        "outputId": "26c4e61e-10e4-4e67-8dee-43fee51a6c75"
      },
      "source": [
        "model.layers[0].get_weights()"
      ],
      "execution_count": 5,
      "outputs": [
        {
          "output_type": "execute_result",
          "data": {
            "text/plain": [
              "[array([[ 2.00386  ],\n",
              "        [-2.9922562]], dtype=float32), array([4.9977665], dtype=float32)]"
            ]
          },
          "metadata": {
            "tags": []
          },
          "execution_count": 5
        }
      ]
    },
    {
      "cell_type": "code",
      "metadata": {
        "colab": {
          "base_uri": "https://localhost:8080/"
        },
        "id": "4J0XSTUfbXNX",
        "outputId": "15146c03-7ef2-4aa4-8e7b-a3cced1aeffe"
      },
      "source": [
        "model.predict_on_batch(training_data['inputs'])"
      ],
      "execution_count": 6,
      "outputs": [
        {
          "output_type": "execute_result",
          "data": {
            "text/plain": [
              "array([[ 40.11313  ],\n",
              "       [-13.3090515],\n",
              "       [ 27.622072 ],\n",
              "       ...,\n",
              "       [ -7.110697 ],\n",
              "       [-20.88842  ],\n",
              "       [ 10.387188 ]], dtype=float32)"
            ]
          },
          "metadata": {
            "tags": []
          },
          "execution_count": 6
        }
      ]
    },
    {
      "cell_type": "code",
      "metadata": {
        "colab": {
          "base_uri": "https://localhost:8080/"
        },
        "id": "MjPxc0_mbc3p",
        "outputId": "cfbf9757-a0cb-415d-e78c-06bd14d28c8f"
      },
      "source": [
        "training_data['targets']"
      ],
      "execution_count": 7,
      "outputs": [
        {
          "output_type": "execute_result",
          "data": {
            "text/plain": [
              "array([[ 40.53060125],\n",
              "       [-14.22727137],\n",
              "       [ 27.38984056],\n",
              "       ...,\n",
              "       [ -7.65601389],\n",
              "       [-20.61845467],\n",
              "       [  9.50191403]])"
            ]
          },
          "metadata": {
            "tags": []
          },
          "execution_count": 7
        }
      ]
    },
    {
      "cell_type": "code",
      "metadata": {
        "colab": {
          "base_uri": "https://localhost:8080/",
          "height": 268
        },
        "id": "BahN02NHbghc",
        "outputId": "91a1e62f-ec3e-44f0-fdef-c326dfb56930"
      },
      "source": [
        "plt.plot(np.squeeze(model.predict_on_batch(training_data['inputs'])), np.squeeze(training_data['targets']))\n",
        "plt.show()"
      ],
      "execution_count": 8,
      "outputs": [
        {
          "output_type": "display_data",
          "data": {
            "image/png": "[encoded data removed]",
            "text/plain": [
              "<Figure size 432x288 with 1 Axes>"
            ]
          },
          "metadata": {
            "tags": [],
            "needs_background": "light"
          }
        }
      ]
    },
    {
      "cell_type": "code",
      "metadata": {
        "id": "x0hmq3Qibsap"
      },
      "source": [
        ""
      ],
      "execution_count": 8,
      "outputs": []
    }
  ]
}